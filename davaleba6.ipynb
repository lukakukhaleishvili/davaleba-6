{
  "nbformat": 4,
  "nbformat_minor": 0,
  "metadata": {
    "colab": {
      "provenance": [],
      "authorship_tag": "ABX9TyNOz1/WZRZqfp+vcQbXOtvB",
      "include_colab_link": true
    },
    "kernelspec": {
      "name": "python3",
      "display_name": "Python 3"
    },
    "language_info": {
      "name": "python"
    }
  },
  "cells": [
    {
      "cell_type": "markdown",
      "metadata": {
        "id": "view-in-github",
        "colab_type": "text"
      },
      "source": [
        "<a href=\"https://colab.research.google.com/github/lukakukhaleishvili/davaleba-6/blob/main/davaleba6.ipynb\" target=\"_parent\"><img src=\"https://colab.research.google.com/assets/colab-badge.svg\" alt=\"Open In Colab\"/></a>"
      ]
    },
    {
      "cell_type": "code",
      "execution_count": 1,
      "metadata": {
        "id": "9bBCFrmzZ0hl"
      },
      "outputs": [],
      "source": [
        "import numpy as np\n",
        "import matplotlib.pyplot as plt\n",
        "import seaborn as sns\n"
      ]
    },
    {
      "cell_type": "code",
      "source": [
        "def explanation():\n",
        "    print(\"\"\"\n",
        "ყურადღება (Attention) საშუალებას აძლევს მოდელს, ყურადღება გაამახვილოს შეყვანის სხვადასხვა ნაწილზე.\n",
        "მაგალითად, თარგმნისას სიტყვა \"bank\" შეიძლება ნიშნავდეს \"მდინარის ნაპირს\" ან \"ბანკს\" — ყურადღება განსაზღვრავს, რომელი მნიშვნელობაა რელევანტური კონტექსტში.\n",
        "\n",
        "კომპონენტები:\n",
        "- Query (Q): ის, რაც ყურადღებას ითხოვს\n",
        "- Key (K): ის, რასაც ვადარებთ\n",
        "- Value (V): შესაბამისი ინფორმაცია\n",
        "\n",
        "Attention(Q, K, V) = softmax(QKᵀ / √d_k) · V\n",
        "\n",
        "Q, K, V ჩვეულებრივ წარმოიქმნება იმავე შეყვანიდან (Self-Attention).\n",
        "    \"\"\")"
      ],
      "metadata": {
        "id": "7c8PfDfSaGOs"
      },
      "execution_count": 2,
      "outputs": []
    },
    {
      "cell_type": "code",
      "source": [
        "#  მატრიცული ნამრავლის დემონსტრაცია\n",
        "def demonstrate_matrix_multiplication():\n",
        "    Q = np.array([[1, 0]])\n",
        "    K = np.array([[1, 0], [0, 1]])\n",
        "    V = np.array([[10, 0], [0, 5]])\n",
        "\n",
        "    scores = Q @ K.T\n",
        "    weights = softmax(scores)\n",
        "    output = weights @ V\n",
        "\n",
        "    print(\"Q @ Kᵀ =\", scores)\n",
        "    print(\"softmax(QKᵀ) =\", weights)\n",
        "    print(\"Attention Output =\", output)\n",
        "\n",
        "def softmax(x):\n",
        "    e_x = np.exp(x - np.max(x))\n",
        "    return e_x / e_x.sum(axis=-1, keepdims=True)"
      ],
      "metadata": {
        "id": "yhWwkwlXaP7V"
      },
      "execution_count": 3,
      "outputs": []
    },
    {
      "cell_type": "code",
      "source": [
        "# ვიზუალიზაცია Attention ქულების\n",
        "def attention_heatmap():\n",
        "    tokens = ['მე', 'ვწერ', 'კოდს']\n",
        "    attention = np.array([\n",
        "        [0.6, 0.3, 0.1],\n",
        "        [0.2, 0.7, 0.1],\n",
        "        [0.1, 0.3, 0.6]\n",
        "    ])\n",
        "\n",
        "    plt.figure(figsize=(6, 4))\n",
        "    sns.heatmap(attention, xticklabels=tokens, yticklabels=tokens, cmap='Blues', annot=True)\n",
        "    plt.title('Self-Attention Heatmap')\n",
        "    plt.xlabel('Key')\n",
        "    plt.ylabel('Query')\n",
        "    plt.tight_layout()\n",
        "    plt.show()"
      ],
      "metadata": {
        "id": "UWaN7dZvaWW2"
      },
      "execution_count": 4,
      "outputs": []
    },
    {
      "cell_type": "code",
      "source": [
        "# მრავალთავიანი ყურადღება (Multi-Head Attention)\n",
        "def explain_multihead():\n",
        "    print(\"\"\"\n",
        "მრავალთავიანი ყურადღება (Multi-head Attention):\n",
        "\n",
        "რამდენიმე დამოუკიდებელი ყურადღების თავი ერთდროულად აანალიზებს სხვადასხვა ნაწილს შეყვანაში.\n",
        "დადებითი მხარეები:\n",
        "- სხვადასხვა ურთიერთობების აღქმა\n",
        "- უკეთესი ზოგადობა\n",
        "\n",
        "პროცესი:\n",
        "1. Q, K, V ში გადაკეთება მრავალი თავით (მაგ. 8)\n",
        "2. დამოუკიდებელი Attention გათვლები\n",
        "3. შედეგების შეერთიანება და პროექტირება უკან\n",
        "    \"\"\")"
      ],
      "metadata": {
        "id": "x8hA0k9kab4M"
      },
      "execution_count": 5,
      "outputs": []
    },
    {
      "cell_type": "code",
      "source": [
        "# ნიღბიანი ყურადღება (Masked Attention)\n",
        "def explain_masked():\n",
        "    print(\"\"\"\n",
        "ნიღბიანი ყურადღება გამოიყენება დეკოდერში ტრანსფორმერებში.\n",
        "\n",
        "მიზანია მომავალი ტოკენების ინფორმაციის \"დამალვა\", რათა მოდელმა წინასწარ არ \"იცოდეს\" პასუხი.\n",
        "\n",
        "მიმდინარე პოზიციიდან მარჯვნივ მდგომ ყველა მნიშვნელობას ვანულებთ (ან ვანიჭებთ -∞)\n",
        "    \"\"\")\n",
        "    mask_example = np.triu(np.ones((4, 4)) * -np.inf, k=1)\n",
        "    print(\"Masked Attention Matrix:\\n\", mask_example)"
      ],
      "metadata": {
        "id": "HFRpzs_Sahlz"
      },
      "execution_count": 6,
      "outputs": []
    },
    {
      "cell_type": "code",
      "source": [
        "if __name__ == \"__main__\":\n",
        "    explanation()\n",
        "    demonstrate_matrix_multiplication()\n",
        "    attention_heatmap()\n",
        "    explain_multihead()\n",
        "    explain_masked()\n"
      ],
      "metadata": {
        "colab": {
          "base_uri": "https://localhost:8080/",
          "height": 1000
        },
        "id": "67nZWMI1ap53",
        "outputId": "86f9e751-6af6-41bd-a0e3-25def482984b"
      },
      "execution_count": 7,
      "outputs": [
        {
          "output_type": "stream",
          "name": "stdout",
          "text": [
            "\n",
            "ყურადღება (Attention) საშუალებას აძლევს მოდელს, ყურადღება გაამახვილოს შეყვანის სხვადასხვა ნაწილზე. \n",
            "მაგალითად, თარგმნისას სიტყვა \"bank\" შეიძლება ნიშნავდეს \"მდინარის ნაპირს\" ან \"ბანკს\" — ყურადღება განსაზღვრავს, რომელი მნიშვნელობაა რელევანტური კონტექსტში.\n",
            "\n",
            "კომპონენტები:\n",
            "- Query (Q): ის, რაც ყურადღებას ითხოვს\n",
            "- Key (K): ის, რასაც ვადარებთ\n",
            "- Value (V): შესაბამისი ინფორმაცია\n",
            "\n",
            "Attention(Q, K, V) = softmax(QKᵀ / √d_k) · V\n",
            "\n",
            "Q, K, V ჩვეულებრივ წარმოიქმნება იმავე შეყვანიდან (Self-Attention).\n",
            "    \n",
            "Q @ Kᵀ = [[1 0]]\n",
            "softmax(QKᵀ) = [[0.73105858 0.26894142]]\n",
            "Attention Output = [[7.31058579 1.34470711]]\n"
          ]
        },
        {
          "output_type": "display_data",
          "data": {
            "text/plain": [
              "<Figure size 600x400 with 2 Axes>"
            ],
            "image/png": "[encoded data removed]"
          },
          "metadata": {}
        },
        {
          "output_type": "stream",
          "name": "stdout",
          "text": [
            "\n",
            "მრავალთავიანი ყურადღება (Multi-head Attention):\n",
            "\n",
            "რამდენიმე დამოუკიდებელი ყურადღების თავი ერთდროულად აანალიზებს სხვადასხვა ნაწილს შეყვანაში.\n",
            "დადებითი მხარეები:\n",
            "- სხვადასხვა ურთიერთობების აღქმა\n",
            "- უკეთესი ზოგადობა\n",
            "\n",
            "პროცესი:\n",
            "1. Q, K, V ში გადაკეთება მრავალი თავით (მაგ. 8)\n",
            "2. დამოუკიდებელი Attention გათვლები\n",
            "3. შედეგების შეერთიანება და პროექტირება უკან\n",
            "    \n",
            "\n",
            "ნიღბიანი ყურადღება გამოიყენება დეკოდერში ტრანსფორმერებში.\n",
            "\n",
            "მიზანია მომავალი ტოკენების ინფორმაციის \"დამალვა\", რათა მოდელმა წინასწარ არ \"იცოდეს\" პასუხი.\n",
            "\n",
            "მიმდინარე პოზიციიდან მარჯვნივ მდგომ ყველა მნიშვნელობას ვანულებთ (ან ვანიჭებთ -∞)\n",
            "    \n",
            "Masked Attention Matrix:\n",
            " [[  0. -inf -inf -inf]\n",
            " [  0.   0. -inf -inf]\n",
            " [  0.   0.   0. -inf]\n",
            " [  0.   0.   0.   0.]]\n"
          ]
        }
      ]
    }
  ]
}